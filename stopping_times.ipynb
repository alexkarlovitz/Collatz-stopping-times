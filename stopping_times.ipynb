{
 "cells": [
  {
   "cell_type": "markdown",
   "id": "fd8724cf-cb10-4ede-b5d3-93edfb08abe0",
   "metadata": {},
   "source": [
    "# Computing Stopping Times for the Collatz Function on Binary Strings\n",
    "\n",
    "We define the *Collatz function* on positive integers by\n",
    "$$\n",
    "T(n) =\n",
    "\\begin{cases}\n",
    "\\frac{3n + 1}{2} & n \\text{ is odd} \\\\\n",
    "~~\\frac{n}{2} & n \\text{ is even}\n",
    "\\end{cases}\n",
    "$$\n",
    "The *Collatz Conjecture* hypothesizes that every integer $n$ eventually reaches 1 under successive iterations of the Collatz function.\n",
    "(Note that once a sequence reaches 1 it remains in the cycle $1 \\rightarrow 4 \\rightarrow 2 \\rightarrow 1$ forever more).\n",
    "\n",
    "We define the *stopping time* of a positive integer by\n",
    "$$\n",
    "\\sigma(n) = \\inf\\{ k \\ge 0 : T^k(n) = 1 \\}\n",
    "$$\n",
    "Thus, a restatement of the Collatz conjecture is that $\\sigma(n) < \\infty$ for all positive integers $n$.\n",
    "\n",
    "Because of the division by 2 in $T$, the stopping time grows like $\\log n$.\n",
    "This prompts us to define one final statistic $\\gamma$ by\n",
    "$$\n",
    "\\gamma(n) = \\frac{\\sigma(n)}{\\log n}\n",
    "$$\n",
    "In this notebook, we produce a large dataset of binary strings and their corresponding $\\gamma$ values."
   ]
  },
  {
   "cell_type": "code",
   "execution_count": 1,
   "id": "3fa44814-3fdf-428a-a029-7afdb62d332e",
   "metadata": {},
   "outputs": [],
   "source": [
    "import time\n",
    "import random\n",
    "import numpy as np"
   ]
  },
  {
   "cell_type": "markdown",
   "id": "e2435cac-b539-4f4e-840e-05a8e6725393",
   "metadata": {},
   "source": [
    "## Computing $\\gamma$"
   ]
  },
  {
   "cell_type": "code",
   "execution_count": 11,
   "id": "604e1a93-d43b-490f-9277-2a238a4fbcf3",
   "metadata": {},
   "outputs": [],
   "source": [
    "##############\n",
    "# Main Funcs #\n",
    "##############\n",
    "\n",
    "def T(n) :\n",
    "    '''Computes T(n)'''\n",
    "    if n % 2 == 0 :\n",
    "        return n//2\n",
    "    else :\n",
    "        return (3*n + 1)//2\n",
    "    \n",
    "def sigma(n, k=0) :\n",
    "    '''Computes sigma(n) recursively'''\n",
    "    if n == 1 :\n",
    "        return k\n",
    "    return sigma(T(n), k+1)\n",
    "\n",
    "def gamma(n) :\n",
    "    '''Computes gamma(n) recursively'''\n",
    "    return sigma(n)/np.log(n)\n",
    "\n",
    "#############\n",
    "# Debugging #\n",
    "#############\n",
    "\n",
    "def seq(n) :\n",
    "    '''Prints Collatz sequence for n, stopping at 1'''\n",
    "    print(n, end=' ')\n",
    "    if n != 1 :\n",
    "        seq(T(n))\n",
    "    else :\n",
    "        print()"
   ]
  },
  {
   "cell_type": "code",
   "execution_count": 12,
   "id": "6935ccec-c1ab-44b6-856e-37fe6acc26ed",
   "metadata": {},
   "outputs": [
    {
     "name": "stdout",
     "output_type": "stream",
     "text": [
      "5 8 4 2 1 \n",
      "sigma(5): 4, gamma(5): 2.4853397382384474\n"
     ]
    }
   ],
   "source": [
    "seq(5)\n",
    "print(f'sigma(5): {sigma(5)}, gamma(5): {gamma(5)}')"
   ]
  },
  {
   "cell_type": "code",
   "execution_count": null,
   "id": "0629a589-9b44-4eb6-b354-ddc06e41ef02",
   "metadata": {},
   "outputs": [],
   "source": []
  }
 ],
 "metadata": {
  "kernelspec": {
   "display_name": "Python 3 (ipykernel)",
   "language": "python",
   "name": "python3"
  },
  "language_info": {
   "codemirror_mode": {
    "name": "ipython",
    "version": 3
   },
   "file_extension": ".py",
   "mimetype": "text/x-python",
   "name": "python",
   "nbconvert_exporter": "python",
   "pygments_lexer": "ipython3",
   "version": "3.9.16"
  }
 },
 "nbformat": 4,
 "nbformat_minor": 5
}
