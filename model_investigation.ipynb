{
 "cells": [
  {
   "cell_type": "markdown",
   "id": "6236e3e4-b346-4f1e-b209-dbd46b5374b1",
   "metadata": {},
   "source": [
    "# Model Investigation\n",
    "\n",
    "See how well our models are performing."
   ]
  },
  {
   "cell_type": "code",
   "execution_count": 1,
   "id": "8fd1aa86-48ea-4bd1-a70c-18d216fd64c0",
   "metadata": {},
   "outputs": [],
   "source": [
    "import tensorflow as tf\n",
    "\n",
    "from tensorflow.data import Dataset\n",
    "\n",
    "from ResNet_1D import ResNet18_1D\n",
    "\n",
    "import pandas as pd\n",
    "import numpy as np"
   ]
  },
  {
   "cell_type": "markdown",
   "id": "af4cf7ea-c58b-4188-8d4b-d068cf073f02",
   "metadata": {},
   "source": [
    "## Load Pretrained Model"
   ]
  },
  {
   "cell_type": "code",
   "execution_count": 2,
   "id": "264ef5cf-1c48-4afe-a7d6-910a6d68f637",
   "metadata": {},
   "outputs": [
    {
     "name": "stdout",
     "output_type": "stream",
     "text": [
      "Loading model... done!\n"
     ]
    }
   ],
   "source": [
    "# choose model to load\n",
    "model_dir = 'linear_scaled_loss'\n",
    "weights_path = f'./models/{model_dir}/checkpoint002'\n",
    "\n",
    "# load model\n",
    "model = ResNet18_1D()\n",
    "print('Loading model', end='... ')\n",
    "model.load_weights(weights_path)\n",
    "print('done!')"
   ]
  },
  {
   "cell_type": "markdown",
   "id": "337246c8-b7d8-4be3-99f6-5d0fc245e72f",
   "metadata": {},
   "source": [
    "## Play with Model"
   ]
  },
  {
   "cell_type": "code",
   "execution_count": 3,
   "id": "a93420f0-3ed1-4f69-b6d0-4a02a1c9f394",
   "metadata": {},
   "outputs": [
    {
     "data": {
      "text/html": [
       "<div>\n",
       "<style scoped>\n",
       "    .dataframe tbody tr th:only-of-type {\n",
       "        vertical-align: middle;\n",
       "    }\n",
       "\n",
       "    .dataframe tbody tr th {\n",
       "        vertical-align: top;\n",
       "    }\n",
       "\n",
       "    .dataframe thead th {\n",
       "        text-align: right;\n",
       "    }\n",
       "</style>\n",
       "<table border=\"1\" class=\"dataframe\">\n",
       "  <thead>\n",
       "    <tr style=\"text-align: right;\">\n",
       "      <th></th>\n",
       "      <th>bstring</th>\n",
       "      <th>gamma</th>\n",
       "    </tr>\n",
       "  </thead>\n",
       "  <tbody>\n",
       "    <tr>\n",
       "      <th>0</th>\n",
       "      <td>1001011101001001100110101001001011001011101000...</td>\n",
       "      <td>7.637653</td>\n",
       "    </tr>\n",
       "    <tr>\n",
       "      <th>1</th>\n",
       "      <td>1011001001101100100011110000100101001101110111...</td>\n",
       "      <td>7.350031</td>\n",
       "    </tr>\n",
       "    <tr>\n",
       "      <th>2</th>\n",
       "      <td>0011000110001101100101100001111101110111110111...</td>\n",
       "      <td>7.058517</td>\n",
       "    </tr>\n",
       "    <tr>\n",
       "      <th>3</th>\n",
       "      <td>0101100000100111000110111010101111101111110000...</td>\n",
       "      <td>7.825673</td>\n",
       "    </tr>\n",
       "    <tr>\n",
       "      <th>4</th>\n",
       "      <td>0111101111000111101110110110011001011011001101...</td>\n",
       "      <td>6.826776</td>\n",
       "    </tr>\n",
       "  </tbody>\n",
       "</table>\n",
       "</div>"
      ],
      "text/plain": [
       "                                             bstring     gamma\n",
       "0  1001011101001001100110101001001011001011101000...  7.637653\n",
       "1  1011001001101100100011110000100101001101110111...  7.350031\n",
       "2  0011000110001101100101100001111101110111110111...  7.058517\n",
       "3  0101100000100111000110111010101111101111110000...  7.825673\n",
       "4  0111101111000111101110110110011001011011001101...  6.826776"
      ]
     },
     "execution_count": 3,
     "metadata": {},
     "output_type": "execute_result"
    }
   ],
   "source": [
    "df = pd.read_csv('gamma_values.csv', names=['bstring', 'gamma'])\n",
    "df.head()"
   ]
  },
  {
   "cell_type": "code",
   "execution_count": 4,
   "id": "b7144a3a-6d18-4535-9324-961bd198f420",
   "metadata": {},
   "outputs": [],
   "source": [
    "def bstring_to_floats(bs) :\n",
    "    '''\n",
    "    Converts string of 0s and 1s to array of floats\n",
    "    '''\n",
    "    return np.array([float(b) for b in bs])"
   ]
  },
  {
   "cell_type": "code",
   "execution_count": 5,
   "id": "ab04b4f6-be02-4ad7-af08-73b3c8fe9b9b",
   "metadata": {},
   "outputs": [],
   "source": [
    "# set up input\n",
    "X = df['bstring'].apply(bstring_to_floats).values\n",
    "X = tf.convert_to_tensor(\n",
    "    [tf.convert_to_tensor(x) for x in X]\n",
    ")\n",
    "\n",
    "# form data set\n",
    "ds = Dataset.from_tensor_slices(X)\n",
    "ds = ds.batch(128)"
   ]
  },
  {
   "cell_type": "code",
   "execution_count": 6,
   "id": "6f0b1990-161c-44f4-b291-b062971a0011",
   "metadata": {},
   "outputs": [],
   "source": [
    "# run model on everything\n",
    "preds = np.zeros(0)\n",
    "for x in ds :\n",
    "    p = model(x, training=False).numpy()[:, 0, 0]\n",
    "    preds = np.concatenate((preds, p))"
   ]
  },
  {
   "cell_type": "code",
   "execution_count": 7,
   "id": "7f746d03-8432-4345-8c36-f99c3e137088",
   "metadata": {},
   "outputs": [
    {
     "data": {
      "text/plain": [
       "(6.787522315979004, 7.251565933227539)"
      ]
     },
     "execution_count": 7,
     "metadata": {},
     "output_type": "execute_result"
    }
   ],
   "source": [
    "preds.min(), preds.max()"
   ]
  },
  {
   "cell_type": "code",
   "execution_count": null,
   "id": "50336335-496f-4039-8282-e47a6e373a2f",
   "metadata": {},
   "outputs": [],
   "source": []
  }
 ],
 "metadata": {
  "kernelspec": {
   "display_name": "Python 3 (ipykernel)",
   "language": "python",
   "name": "python3"
  },
  "language_info": {
   "codemirror_mode": {
    "name": "ipython",
    "version": 3
   },
   "file_extension": ".py",
   "mimetype": "text/x-python",
   "name": "python",
   "nbconvert_exporter": "python",
   "pygments_lexer": "ipython3",
   "version": "3.9.16"
  }
 },
 "nbformat": 4,
 "nbformat_minor": 5
}
