{
 "cells": [
  {
   "cell_type": "markdown",
   "id": "89bff6b8-b67e-4130-84df-303f262975fd",
   "metadata": {},
   "source": [
    "# Find Integers with Large $\\gamma$ Values"
   ]
  },
  {
   "cell_type": "code",
   "execution_count": 8,
   "id": "ee19807e-792c-4df9-b445-2a3ab8a0cff5",
   "metadata": {},
   "outputs": [],
   "source": [
    "import tensorflow as tf\n",
    "from tensorflow.keras import Model\n",
    "\n",
    "from ResNet_1D import ResNet18_1D\n",
    "\n",
    "import pandas as pd\n",
    "import numpy as np"
   ]
  },
  {
   "cell_type": "markdown",
   "id": "45ad9f3a-21ce-4a6b-af64-9d2b5132bbf6",
   "metadata": {},
   "source": [
    "## Two-Part Model\n",
    "\n",
    "Idea is to define a model with two pieces $f$ and $M$ where $M$ is the model we already trained to predict $\\gamma$.\n",
    "\n",
    "If we make $f$ differentiable, we can train $f$ to convert bit strings into new ones which give larger $M$ values. Hopefully these also give large $\\gamma$ values..."
   ]
  },
  {
   "cell_type": "code",
   "execution_count": null,
   "id": "d93e1b3c-9094-42a5-97b1-46ae765e73e0",
   "metadata": {},
   "outputs": [],
   "source": [
    "class TwoPartModel(Model) :\n",
    "    '''\n",
    "    Custom TensorFlow Model which puts together a learnable model\n",
    "    for mapping bit strings to better-performing bit strings and\n",
    "    a pre-trained model for estimating gamma.\n",
    "    '''\n",
    "    \n",
    "    def __init__(self, bits_improver, gamma_predictor) :\n",
    "        \n",
    "        super(TwoPartModel, self).__init__()\n",
    "        \n",
    "        # save models\n",
    "        self.bits_improver = bits_improver\n",
    "        self.gamma_predictor = gamma_predictor\n",
    "        \n",
    "        # freeze predictor weights\n",
    "        self.gamma_predictor.trainable = False\n",
    "\n",
    "    def call(self, inputs) :\n",
    "        \n",
    "        new_bs = self.bits_improver(inputs)\n",
    "        \n",
    "        return self.gamma_predictor(new_bs)"
   ]
  },
  {
   "cell_type": "markdown",
   "id": "5ea57917-054a-46db-896a-9ad841ea1a43",
   "metadata": {},
   "source": [
    "## Load Models"
   ]
  },
  {
   "cell_type": "code",
   "execution_count": 2,
   "id": "33edb857-e1da-4172-8207-19481db388f9",
   "metadata": {},
   "outputs": [
    {
     "name": "stdout",
     "output_type": "stream",
     "text": [
      "Loading model... done!\n"
     ]
    }
   ],
   "source": [
    "# choose model for bits_improver\n",
    "print('!')\n",
    "\n",
    "# load model with weights\n",
    "weights_path = './models/first_model'\n",
    "model = ResNet18_1D()\n",
    "print('Loading model', end='... ')\n",
    "model.load_weights(weights_path)\n",
    "print('done!')"
   ]
  },
  {
   "cell_type": "code",
   "execution_count": null,
   "id": "1053d8c0-4424-4440-afaf-49f8a1f26c65",
   "metadata": {},
   "outputs": [],
   "source": []
  }
 ],
 "metadata": {
  "kernelspec": {
   "display_name": "Python 3 (ipykernel)",
   "language": "python",
   "name": "python3"
  },
  "language_info": {
   "codemirror_mode": {
    "name": "ipython",
    "version": 3
   },
   "file_extension": ".py",
   "mimetype": "text/x-python",
   "name": "python",
   "nbconvert_exporter": "python",
   "pygments_lexer": "ipython3",
   "version": "3.9.16"
  }
 },
 "nbformat": 4,
 "nbformat_minor": 5
}
