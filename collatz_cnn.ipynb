{
 "cells": [
  {
   "cell_type": "markdown",
   "id": "4e3bd174-613b-4685-a7e1-59467ffd1759",
   "metadata": {},
   "source": [
    "# Predict $\\gamma$ with 1D CNNs"
   ]
  },
  {
   "cell_type": "code",
   "execution_count": 15,
   "id": "df4924b9-9731-450f-ab26-21bef3fd66e5",
   "metadata": {},
   "outputs": [],
   "source": [
    "import tensorflow as tf\n",
    "\n",
    "from tensorflow.keras import Input, Model\n",
    "from tensorflow.keras.layers import Conv1D, BatchNormalization, ReLU"
   ]
  },
  {
   "cell_type": "markdown",
   "id": "93ff4818-bb5e-43cf-9172-b8a85f6f7cad",
   "metadata": {},
   "source": [
    "## Custom CNN"
   ]
  },
  {
   "cell_type": "code",
   "execution_count": 16,
   "id": "7d0b961d-f6c2-49ce-821b-cf7508270d28",
   "metadata": {},
   "outputs": [],
   "source": [
    "def ResBlock1D(in_c, out_c, kernel_size, stride1=1, stride2=1, padding='same', bias=False, downsample=None) :\n",
    "    '''\n",
    "    Defines a residual block for a 1D CNN\n",
    "    '''\n",
    "    \n",
    "    # initialize input\n",
    "    X = Input(shape=(None, in_c))\n",
    "    inp = X\n",
    "    \n",
    "    # conv1\n",
    "    out = Conv1D(out_c, kernel_size, strides=stride1, padding=padding, use_bias=bias)(inp)\n",
    "    out = BatchNormalization()(out)\n",
    "    out = ReLU()(out)\n",
    "    \n",
    "    # conv2\n",
    "    out = Conv1D(out_c, kernel_size, strides=stride2, padding=padding, use_bias=bias)(out)\n",
    "    out = BatchNormalization()(out)\n",
    "    \n",
    "    # downsample if specified\n",
    "    if downsample is not None :\n",
    "        inp = downsample(X)\n",
    "        \n",
    "    # residual connection\n",
    "    out += X\n",
    "    out = ReLU()(out)\n",
    "    \n",
    "    return Model(inp, out)"
   ]
  },
  {
   "cell_type": "code",
   "execution_count": 17,
   "id": "5c45ff8e-b7ff-43a0-812c-73aedc590a6d",
   "metadata": {},
   "outputs": [
    {
     "name": "stdout",
     "output_type": "stream",
     "text": [
      "Model: \"model\"\n",
      "__________________________________________________________________________________________________\n",
      " Layer (type)                   Output Shape         Param #     Connected to                     \n",
      "==================================================================================================\n",
      " input_4 (InputLayer)           [(None, None, 32)]   0           []                               \n",
      "                                                                                                  \n",
      " conv1d_4 (Conv1D)              (None, None, 32)     3072        ['input_4[0][0]']                \n",
      "                                                                                                  \n",
      " batch_normalization_2 (BatchNo  (None, None, 32)    128         ['conv1d_4[0][0]']               \n",
      " rmalization)                                                                                     \n",
      "                                                                                                  \n",
      " re_lu_2 (ReLU)                 (None, None, 32)     0           ['batch_normalization_2[0][0]']  \n",
      "                                                                                                  \n",
      " conv1d_5 (Conv1D)              (None, None, 32)     3072        ['re_lu_2[0][0]']                \n",
      "                                                                                                  \n",
      " batch_normalization_3 (BatchNo  (None, None, 32)    128         ['conv1d_5[0][0]']               \n",
      " rmalization)                                                                                     \n",
      "                                                                                                  \n",
      " tf.__operators__.add_1 (TFOpLa  (None, None, 32)    0           ['batch_normalization_3[0][0]',  \n",
      " mbda)                                                            'input_4[0][0]']                \n",
      "                                                                                                  \n",
      " re_lu_3 (ReLU)                 (None, None, 32)     0           ['tf.__operators__.add_1[0][0]'] \n",
      "                                                                                                  \n",
      "==================================================================================================\n",
      "Total params: 6,400\n",
      "Trainable params: 6,272\n",
      "Non-trainable params: 128\n",
      "__________________________________________________________________________________________________\n"
     ]
    }
   ],
   "source": [
    "rb0 = ResBlock1D(32, 32, 3)\n",
    "rb0.summary()"
   ]
  },
  {
   "cell_type": "code",
   "execution_count": null,
   "id": "bc38c8ae-791e-4fd7-afef-938fd1072d93",
   "metadata": {},
   "outputs": [],
   "source": []
  }
 ],
 "metadata": {
  "kernelspec": {
   "display_name": "Python 3 (ipykernel)",
   "language": "python",
   "name": "python3"
  },
  "language_info": {
   "codemirror_mode": {
    "name": "ipython",
    "version": 3
   },
   "file_extension": ".py",
   "mimetype": "text/x-python",
   "name": "python",
   "nbconvert_exporter": "python",
   "pygments_lexer": "ipython3",
   "version": "3.9.16"
  }
 },
 "nbformat": 4,
 "nbformat_minor": 5
}
