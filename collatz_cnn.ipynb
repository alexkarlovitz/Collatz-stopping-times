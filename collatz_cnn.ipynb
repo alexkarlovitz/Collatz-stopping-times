{
 "cells": [
  {
   "cell_type": "markdown",
   "id": "4e3bd174-613b-4685-a7e1-59467ffd1759",
   "metadata": {},
   "source": [
    "# Predict $\\gamma$ with 1D CNNs"
   ]
  },
  {
   "cell_type": "code",
   "execution_count": 1,
   "id": "df4924b9-9731-450f-ab26-21bef3fd66e5",
   "metadata": {},
   "outputs": [],
   "source": [
    "import os\n",
    "\n",
    "import tensorflow as tf\n",
    "import tensorflow_addons as tfa\n",
    "\n",
    "from tensorflow.keras import Input, Model, Sequential\n",
    "from tensorflow.keras.layers import Conv1D, BatchNormalization, ReLU, MaxPool1D, Dense\n",
    "\n",
    "from tensorflow.data import Dataset\n",
    "\n",
    "from tensorflow_addons.layers import AdaptiveAveragePooling1D\n",
    "\n",
    "from ResNet_1D import ResNet18_1D\n",
    "\n",
    "import pandas as pd\n",
    "import numpy as np\n",
    "\n",
    "import time\n",
    "from datetime import datetime"
   ]
  },
  {
   "cell_type": "markdown",
   "id": "93ff4818-bb5e-43cf-9172-b8a85f6f7cad",
   "metadata": {},
   "source": [
    "## Choose Model"
   ]
  },
  {
   "cell_type": "code",
   "execution_count": 2,
   "id": "5c45ff8e-b7ff-43a0-812c-73aedc590a6d",
   "metadata": {},
   "outputs": [
    {
     "name": "stdout",
     "output_type": "stream",
     "text": [
      "Model: \"model_8\"\n",
      "_________________________________________________________________\n",
      " Layer (type)                Output Shape              Param #   \n",
      "=================================================================\n",
      " input_1 (InputLayer)        [(None, 1000)]            0         \n",
      "                                                                 \n",
      " tf.__operators__.getitem (S  (None, 1000, 1)          0         \n",
      " licingOpLambda)                                                 \n",
      "                                                                 \n",
      " conv1d (Conv1D)             (None, 500, 32)           256       \n",
      "                                                                 \n",
      " batch_normalization (BatchN  (None, 500, 32)          128       \n",
      " ormalization)                                                   \n",
      "                                                                 \n",
      " re_lu (ReLU)                (None, 500, 32)           0         \n",
      "                                                                 \n",
      " max_pooling1d (MaxPooling1D  (None, 250, 32)          0         \n",
      " )                                                               \n",
      "                                                                 \n",
      " model (Functional)          (None, None, 32)          6464      \n",
      "                                                                 \n",
      " model_1 (Functional)        (None, None, 32)          6464      \n",
      "                                                                 \n",
      " model_2 (Functional)        (None, None, 64)          21376     \n",
      "                                                                 \n",
      " model_3 (Functional)        (None, None, 64)          25216     \n",
      "                                                                 \n",
      " model_4 (Functional)        (None, None, 128)         83712     \n",
      "                                                                 \n",
      " model_5 (Functional)        (None, None, 128)         99584     \n",
      "                                                                 \n",
      " model_6 (Functional)        (None, None, 256)         331264    \n",
      "                                                                 \n",
      " model_7 (Functional)        (None, None, 256)         395776    \n",
      "                                                                 \n",
      " adaptive_average_pooling1d   (None, 1, 256)           0         \n",
      " (AdaptiveAveragePooling1D)                                      \n",
      "                                                                 \n",
      " dense (Dense)               (None, 1, 1)              257       \n",
      "                                                                 \n",
      "=================================================================\n",
      "Total params: 970,497\n",
      "Trainable params: 965,697\n",
      "Non-trainable params: 4,800\n",
      "_________________________________________________________________\n"
     ]
    }
   ],
   "source": [
    "model = ResNet18_1D()\n",
    "model.summary()"
   ]
  },
  {
   "cell_type": "markdown",
   "id": "77b57547-5fcd-44d0-aefa-63a4938cebd9",
   "metadata": {},
   "source": [
    "## Read Data Set"
   ]
  },
  {
   "cell_type": "code",
   "execution_count": 3,
   "id": "f65938ca-2559-4f2d-897c-87d9519a0a2a",
   "metadata": {},
   "outputs": [
    {
     "data": {
      "text/html": [
       "<div>\n",
       "<style scoped>\n",
       "    .dataframe tbody tr th:only-of-type {\n",
       "        vertical-align: middle;\n",
       "    }\n",
       "\n",
       "    .dataframe tbody tr th {\n",
       "        vertical-align: top;\n",
       "    }\n",
       "\n",
       "    .dataframe thead th {\n",
       "        text-align: right;\n",
       "    }\n",
       "</style>\n",
       "<table border=\"1\" class=\"dataframe\">\n",
       "  <thead>\n",
       "    <tr style=\"text-align: right;\">\n",
       "      <th></th>\n",
       "      <th>bstring</th>\n",
       "      <th>gamma</th>\n",
       "    </tr>\n",
       "  </thead>\n",
       "  <tbody>\n",
       "    <tr>\n",
       "      <th>0</th>\n",
       "      <td>1001011101001001100110101001001011001011101000...</td>\n",
       "      <td>7.637653</td>\n",
       "    </tr>\n",
       "    <tr>\n",
       "      <th>1</th>\n",
       "      <td>1011001001101100100011110000100101001101110111...</td>\n",
       "      <td>7.350031</td>\n",
       "    </tr>\n",
       "    <tr>\n",
       "      <th>2</th>\n",
       "      <td>0011000110001101100101100001111101110111110111...</td>\n",
       "      <td>7.058517</td>\n",
       "    </tr>\n",
       "    <tr>\n",
       "      <th>3</th>\n",
       "      <td>0101100000100111000110111010101111101111110000...</td>\n",
       "      <td>7.825673</td>\n",
       "    </tr>\n",
       "    <tr>\n",
       "      <th>4</th>\n",
       "      <td>0111101111000111101110110110011001011011001101...</td>\n",
       "      <td>6.826776</td>\n",
       "    </tr>\n",
       "  </tbody>\n",
       "</table>\n",
       "</div>"
      ],
      "text/plain": [
       "                                             bstring     gamma\n",
       "0  1001011101001001100110101001001011001011101000...  7.637653\n",
       "1  1011001001101100100011110000100101001101110111...  7.350031\n",
       "2  0011000110001101100101100001111101110111110111...  7.058517\n",
       "3  0101100000100111000110111010101111101111110000...  7.825673\n",
       "4  0111101111000111101110110110011001011011001101...  6.826776"
      ]
     },
     "execution_count": 3,
     "metadata": {},
     "output_type": "execute_result"
    }
   ],
   "source": [
    "df = pd.read_csv('gamma_values.csv', names=['bstring', 'gamma'])\n",
    "df.head()"
   ]
  },
  {
   "cell_type": "code",
   "execution_count": 4,
   "id": "2ad6909b-d23a-4180-8dc5-8c90fd700f00",
   "metadata": {},
   "outputs": [],
   "source": [
    "def bstring_to_floats(bs) :\n",
    "    '''\n",
    "    Converts string of 0s and 1s to array of floats\n",
    "    '''\n",
    "    return np.array([float(b) for b in bs])"
   ]
  },
  {
   "cell_type": "code",
   "execution_count": 5,
   "id": "c62d825c-e11f-4bff-aad4-a2c7155a2f54",
   "metadata": {},
   "outputs": [],
   "source": [
    "# split up input and output\n",
    "X = df['bstring'].apply(bstring_to_floats).values\n",
    "Y = df['gamma'].values\n",
    "\n",
    "# convert to tensors\n",
    "X = tf.convert_to_tensor(\n",
    "    [tf.convert_to_tensor(x) for x in X]\n",
    ")\n",
    "Y = tf.convert_to_tensor(Y)"
   ]
  },
  {
   "cell_type": "code",
   "execution_count": 6,
   "id": "77c52641-c4d2-469d-90c2-564fb5835458",
   "metadata": {},
   "outputs": [],
   "source": [
    "# form data set\n",
    "ds = Dataset.from_tensor_slices((X, Y))"
   ]
  },
  {
   "cell_type": "code",
   "execution_count": 7,
   "id": "bfcb8387-9849-4e6a-8ef6-5697b5aadedf",
   "metadata": {},
   "outputs": [],
   "source": [
    "# split into train/val\n",
    "train_frac = 0.9\n",
    "trainN = int(train_frac*len(ds))\n",
    "valN = len(ds) - trainN\n",
    "ds = ds.shuffle(100000, seed=42)\n",
    "train_ds = ds.take(trainN)\n",
    "val_ds = ds.skip(trainN).take(valN)\n",
    "\n",
    "# batch up data sets\n",
    "train_ds = train_ds.batch(64)\n",
    "val_ds = val_ds.batch(64)"
   ]
  },
  {
   "cell_type": "markdown",
   "id": "2bb894cf-2a12-4cf5-adc9-db8f0d29dc16",
   "metadata": {},
   "source": [
    "## Train!"
   ]
  },
  {
   "cell_type": "code",
   "execution_count": 8,
   "id": "b4084a95-eda1-4bdc-865d-41f83b0d83cc",
   "metadata": {},
   "outputs": [],
   "source": [
    "# custom loss\n",
    "def linear_scaled_loss(y, p) :\n",
    "    return y*(p - y)**2"
   ]
  },
  {
   "cell_type": "code",
   "execution_count": 9,
   "id": "17d4e32d-63c6-478e-a96a-2dacc6e7e67b",
   "metadata": {},
   "outputs": [],
   "source": [
    "# choose compile parameters\n",
    "loss = linear_scaled_loss #tf.keras.losses.MeanSquaredError()\n",
    "optimizer = tf.keras.optimizers.Adam(learning_rate=1e-5)\n",
    "\n",
    "# compile\n",
    "model.compile(loss=loss, optimizer=optimizer)"
   ]
  },
  {
   "cell_type": "code",
   "execution_count": 10,
   "id": "b4ead0d0-b301-4df1-ae64-268827638edf",
   "metadata": {},
   "outputs": [
    {
     "name": "stdout",
     "output_type": "stream",
     "text": [
      "Epoch 1/30\n",
      "282/282 [==============================] - 71s 221ms/step - loss: 327.0628 - val_loss: 221.5573\n",
      "Epoch 2/30\n",
      "282/282 [==============================] - 61s 217ms/step - loss: 126.1809 - val_loss: 95.3469\n",
      "Epoch 3/30\n",
      "282/282 [==============================] - 61s 215ms/step - loss: 31.2694 - val_loss: 48.3115\n",
      "Epoch 4/30\n",
      "282/282 [==============================] - 61s 215ms/step - loss: 15.8208 - val_loss: 3.3543\n",
      "Epoch 5/30\n",
      "282/282 [==============================] - 60s 214ms/step - loss: 16.2661 - val_loss: 28.2806\n",
      "Epoch 6/30\n",
      "282/282 [==============================] - 61s 216ms/step - loss: 15.9133 - val_loss: 7.0339\n",
      "Epoch 7/30\n",
      "282/282 [==============================] - 60s 211ms/step - loss: 14.1485 - val_loss: 54.4640\n",
      "Epoch 8/30\n",
      "282/282 [==============================] - 59s 210ms/step - loss: 15.4913 - val_loss: 6.1324\n",
      "Epoch 9/30\n",
      "282/282 [==============================] - 60s 213ms/step - loss: 12.4542 - val_loss: 43.2290\n",
      "Epoch 10/30\n",
      "282/282 [==============================] - 60s 214ms/step - loss: 11.8854 - val_loss: 4.5918\n",
      "Epoch 11/30\n",
      "282/282 [==============================] - 60s 212ms/step - loss: 15.3246 - val_loss: 4.6002\n",
      "Epoch 12/30\n",
      "282/282 [==============================] - 60s 212ms/step - loss: 12.6745 - val_loss: 33.2776\n",
      "Epoch 13/30\n",
      "282/282 [==============================] - 60s 212ms/step - loss: 12.1784 - val_loss: 16.5016\n",
      "Epoch 14/30\n",
      "282/282 [==============================] - 60s 212ms/step - loss: 15.4528 - val_loss: 21.4601\n",
      "Epoch 15/30\n",
      "282/282 [==============================] - 60s 211ms/step - loss: 13.6295 - val_loss: 21.0687\n",
      "Epoch 16/30\n",
      "282/282 [==============================] - 60s 213ms/step - loss: 10.6373 - val_loss: 22.1502\n",
      "Epoch 17/30\n",
      "282/282 [==============================] - 60s 212ms/step - loss: 15.7393 - val_loss: 33.6195\n",
      "Epoch 18/30\n",
      "282/282 [==============================] - 61s 215ms/step - loss: 13.6400 - val_loss: 24.5236\n",
      "Epoch 19/30\n",
      "282/282 [==============================] - 60s 214ms/step - loss: 15.7012 - val_loss: 17.1325\n",
      "Epoch 20/30\n",
      "282/282 [==============================] - 60s 213ms/step - loss: 14.3212 - val_loss: 12.0596\n",
      "Epoch 21/30\n",
      "282/282 [==============================] - 60s 214ms/step - loss: 14.0808 - val_loss: 1.1558\n",
      "Epoch 22/30\n",
      "282/282 [==============================] - 61s 215ms/step - loss: 15.2593 - val_loss: 20.2861\n",
      "Epoch 23/30\n",
      "282/282 [==============================] - 60s 214ms/step - loss: 14.1304 - val_loss: 37.7453\n",
      "Epoch 24/30\n",
      "282/282 [==============================] - 60s 214ms/step - loss: 12.2859 - val_loss: 6.3678\n",
      "Epoch 25/30\n",
      "282/282 [==============================] - 60s 212ms/step - loss: 15.6718 - val_loss: 35.7719\n",
      "Epoch 26/30\n",
      "282/282 [==============================] - 60s 213ms/step - loss: 13.4829 - val_loss: 1.1026\n",
      "Epoch 27/30\n",
      "282/282 [==============================] - 60s 214ms/step - loss: 15.2535 - val_loss: 6.7401\n",
      "Epoch 28/30\n",
      "282/282 [==============================] - 60s 214ms/step - loss: 13.9038 - val_loss: 1.0447\n",
      "Epoch 29/30\n",
      "282/282 [==============================] - 60s 213ms/step - loss: 14.9810 - val_loss: 1.0877\n",
      "Epoch 30/30\n",
      "282/282 [==============================] - 60s 212ms/step - loss: 14.8777 - val_loss: 4.4132\n"
     ]
    }
   ],
   "source": [
    "history = model.fit(\n",
    "    x=train_ds,\n",
    "    validation_data=val_ds,\n",
    "    epochs=30\n",
    ")"
   ]
  },
  {
   "cell_type": "code",
   "execution_count": 11,
   "id": "12e9b783-e0f2-4c8f-bb8e-72e90cea9663",
   "metadata": {},
   "outputs": [],
   "source": [
    "outdir = './models/linear_scaled_loss'\n",
    "#os.makedirs(outdir)\n",
    "\n",
    "model.save_weights( os.path.join(outdir, 'checkpoint002') )"
   ]
  },
  {
   "cell_type": "code",
   "execution_count": null,
   "id": "78bc54d7-55bd-42ae-a601-b5a2ea0bceed",
   "metadata": {},
   "outputs": [],
   "source": []
  }
 ],
 "metadata": {
  "kernelspec": {
   "display_name": "Python 3 (ipykernel)",
   "language": "python",
   "name": "python3"
  },
  "language_info": {
   "codemirror_mode": {
    "name": "ipython",
    "version": 3
   },
   "file_extension": ".py",
   "mimetype": "text/x-python",
   "name": "python",
   "nbconvert_exporter": "python",
   "pygments_lexer": "ipython3",
   "version": "3.9.16"
  }
 },
 "nbformat": 4,
 "nbformat_minor": 5
}
