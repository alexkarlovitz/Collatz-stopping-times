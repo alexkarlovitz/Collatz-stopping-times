{
 "cells": [
  {
   "cell_type": "markdown",
   "id": "4241f7e3-3bdd-48c7-b113-487305a6400d",
   "metadata": {},
   "source": [
    "# Collatz Data Exploration"
   ]
  },
  {
   "cell_type": "code",
   "execution_count": 3,
   "id": "f5446be2-bcfc-4b51-b44f-6c40bccdc827",
   "metadata": {},
   "outputs": [],
   "source": [
    "import pandas as pd\n",
    "import numpy as np\n",
    "import matplotlib.pyplot as plt\n",
    "from gamma import *"
   ]
  },
  {
   "cell_type": "markdown",
   "id": "8b5d4d44-13ff-4ff3-a2e3-4e724275eacd",
   "metadata": {},
   "source": [
    "## Load from CSV"
   ]
  },
  {
   "cell_type": "code",
   "execution_count": 2,
   "id": "0a2c8b9d-788a-4801-8227-2b6254acb490",
   "metadata": {},
   "outputs": [
    {
     "data": {
      "text/html": [
       "<div>\n",
       "<style scoped>\n",
       "    .dataframe tbody tr th:only-of-type {\n",
       "        vertical-align: middle;\n",
       "    }\n",
       "\n",
       "    .dataframe tbody tr th {\n",
       "        vertical-align: top;\n",
       "    }\n",
       "\n",
       "    .dataframe thead th {\n",
       "        text-align: right;\n",
       "    }\n",
       "</style>\n",
       "<table border=\"1\" class=\"dataframe\">\n",
       "  <thead>\n",
       "    <tr style=\"text-align: right;\">\n",
       "      <th></th>\n",
       "      <th>bstring</th>\n",
       "      <th>gamma</th>\n",
       "    </tr>\n",
       "  </thead>\n",
       "  <tbody>\n",
       "    <tr>\n",
       "      <th>0</th>\n",
       "      <td>1001011101001001100110101001001011001011101000...</td>\n",
       "      <td>7.637653</td>\n",
       "    </tr>\n",
       "    <tr>\n",
       "      <th>1</th>\n",
       "      <td>1011001001101100100011110000100101001101110111...</td>\n",
       "      <td>7.350031</td>\n",
       "    </tr>\n",
       "    <tr>\n",
       "      <th>2</th>\n",
       "      <td>0011000110001101100101100001111101110111110111...</td>\n",
       "      <td>7.058517</td>\n",
       "    </tr>\n",
       "    <tr>\n",
       "      <th>3</th>\n",
       "      <td>0101100000100111000110111010101111101111110000...</td>\n",
       "      <td>7.825673</td>\n",
       "    </tr>\n",
       "    <tr>\n",
       "      <th>4</th>\n",
       "      <td>0111101111000111101110110110011001011011001101...</td>\n",
       "      <td>6.826776</td>\n",
       "    </tr>\n",
       "  </tbody>\n",
       "</table>\n",
       "</div>"
      ],
      "text/plain": [
       "                                             bstring     gamma\n",
       "0  1001011101001001100110101001001011001011101000...  7.637653\n",
       "1  1011001001101100100011110000100101001101110111...  7.350031\n",
       "2  0011000110001101100101100001111101110111110111...  7.058517\n",
       "3  0101100000100111000110111010101111101111110000...  7.825673\n",
       "4  0111101111000111101110110110011001011011001101...  6.826776"
      ]
     },
     "execution_count": 2,
     "metadata": {},
     "output_type": "execute_result"
    }
   ],
   "source": [
    "df = pd.read_csv('gamma_values.csv', names=['bstring', 'gamma'])\n",
    "df.head()"
   ]
  },
  {
   "cell_type": "markdown",
   "id": "1385626a-c1cb-4196-a519-ea976072fdeb",
   "metadata": {},
   "source": [
    "## Simple Statistics"
   ]
  },
  {
   "cell_type": "code",
   "execution_count": 4,
   "id": "8e9676b1-d770-4095-8303-0a55e5aa17eb",
   "metadata": {},
   "outputs": [],
   "source": [
    "gs = df['gamma'].values"
   ]
  },
  {
   "cell_type": "code",
   "execution_count": 11,
   "id": "b8a1e93a-ef4a-40ee-a8aa-a7c79c033b18",
   "metadata": {},
   "outputs": [
    {
     "data": {
      "image/png": "[encoded data removed]",
      "text/plain": [
       "<Figure size 640x480 with 1 Axes>"
      ]
     },
     "metadata": {},
     "output_type": "display_data"
    }
   ],
   "source": [
    "X = plt.hist(gs, bins=10000)\n",
    "plt.show(); plt.close()"
   ]
  },
  {
   "cell_type": "code",
   "execution_count": null,
   "id": "b11ae304-0ddf-4066-85e6-0b23a30329ee",
   "metadata": {},
   "outputs": [],
   "source": []
  }
 ],
 "metadata": {
  "kernelspec": {
   "display_name": "Python 3 (ipykernel)",
   "language": "python",
   "name": "python3"
  },
  "language_info": {
   "codemirror_mode": {
    "name": "ipython",
    "version": 3
   },
   "file_extension": ".py",
   "mimetype": "text/x-python",
   "name": "python",
   "nbconvert_exporter": "python",
   "pygments_lexer": "ipython3",
   "version": "3.9.16"
  }
 },
 "nbformat": 4,
 "nbformat_minor": 5
}
