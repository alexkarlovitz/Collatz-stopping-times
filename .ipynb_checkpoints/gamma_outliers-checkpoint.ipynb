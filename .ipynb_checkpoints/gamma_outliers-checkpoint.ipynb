{
 "cells": [
  {
   "cell_type": "markdown",
   "id": "89bff6b8-b67e-4130-84df-303f262975fd",
   "metadata": {},
   "source": [
    "# Find Integers with Large $\\gamma$ Values"
   ]
  },
  {
   "cell_type": "code",
   "execution_count": 8,
   "id": "ee19807e-792c-4df9-b445-2a3ab8a0cff5",
   "metadata": {},
   "outputs": [],
   "source": [
    "import tensorflow as tf\n",
    "\n",
    "from ResNet_1D import ResNet18_1D\n",
    "\n",
    "import pandas as pd\n",
    "import numpy as np"
   ]
  },
  {
   "cell_type": "markdown",
   "id": "5ea57917-054a-46db-896a-9ad841ea1a43",
   "metadata": {},
   "source": [
    "## Load a Pretrained Model"
   ]
  },
  {
   "cell_type": "code",
   "execution_count": 2,
   "id": "33edb857-e1da-4172-8207-19481db388f9",
   "metadata": {},
   "outputs": [
    {
     "name": "stdout",
     "output_type": "stream",
     "text": [
      "Loading model... done!\n"
     ]
    }
   ],
   "source": [
    "# choose model to load\n",
    "weights_path = './models/first_model'\n",
    "\n",
    "# load model\n",
    "model = ResNet18_1D()\n",
    "print('Loading model', end='... ')\n",
    "model.load_weights(weights_path)\n",
    "print('done!')"
   ]
  },
  {
   "cell_type": "code",
   "execution_count": null,
   "id": "1053d8c0-4424-4440-afaf-49f8a1f26c65",
   "metadata": {},
   "outputs": [],
   "source": []
  }
 ],
 "metadata": {
  "kernelspec": {
   "display_name": "Python 3 (ipykernel)",
   "language": "python",
   "name": "python3"
  },
  "language_info": {
   "codemirror_mode": {
    "name": "ipython",
    "version": 3
   },
   "file_extension": ".py",
   "mimetype": "text/x-python",
   "name": "python",
   "nbconvert_exporter": "python",
   "pygments_lexer": "ipython3",
   "version": "3.9.16"
  }
 },
 "nbformat": 4,
 "nbformat_minor": 5
}
