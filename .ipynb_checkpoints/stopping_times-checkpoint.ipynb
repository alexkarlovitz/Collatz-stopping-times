{
 "cells": [
  {
   "cell_type": "markdown",
   "id": "fd8724cf-cb10-4ede-b5d3-93edfb08abe0",
   "metadata": {},
   "source": [
    "# Computing Stopping Times for the Collatz Function on Binary Strings\n",
    "\n",
    "We define the *Collatz function* on positive integers by\n",
    "$$\n",
    "T(n) =\n",
    "\\begin{cases}\n",
    "\\frac{3n + 1}{2} & n \\text{ is odd} \\\\\n",
    "~~\\frac{n}{2} & n \\text{ is even}\n",
    "\\end{cases}\n",
    "$$\n",
    "The *Collatz Conjecture* hypothesizes that every integer $n$ eventually reaches 1 under successive iterations of the Collatz function.\n",
    "(Note that once a sequence reaches 1 it remains in the cycle $1 \\rightarrow 4 \\rightarrow 2 \\rightarrow 1$ forever more).\n",
    "\n",
    "We define the *stopping time* of a positive integer by\n",
    "$$\n",
    "\\sigma(n) = \\inf\\{ k \\ge 0 : T^k(n) = 1 \\}\n",
    "$$\n",
    "Thus, a restatement of the Collatz conjecture is that $\\sigma(n) < \\infty$ for all positive integers $n$.\n",
    "\n",
    "Because of the division by 2 in $T$, the stopping time grows like $\\log n$.\n",
    "This prompts us to define one final statistic $\\gamma$ by\n",
    "$$\n",
    "\\gamma(n) = \\frac{\\sigma(n)}{\\log n}\n",
    "$$\n",
    "In this notebook, we produce a large dataset of binary strings and their corresponding $\\gamma$ values."
   ]
  },
  {
   "cell_type": "code",
   "execution_count": 1,
   "id": "3fa44814-3fdf-428a-a029-7afdb62d332e",
   "metadata": {},
   "outputs": [],
   "source": [
    "import time\n",
    "import random\n",
    "import numpy as np\n",
    "from math import log\n",
    "\n",
    "from gamma import *"
   ]
  },
  {
   "cell_type": "code",
   "execution_count": 2,
   "id": "6935ccec-c1ab-44b6-856e-37fe6acc26ed",
   "metadata": {},
   "outputs": [
    {
     "name": "stdout",
     "output_type": "stream",
     "text": [
      "5 8 4 2 1 \n",
      "sigma(5): 4, gamma(5): 2.4853397382384474\n"
     ]
    }
   ],
   "source": [
    "# examples of some function in gamma.py\n",
    "seq(5)\n",
    "print(f'sigma(5): {sigma(5)}, gamma(5): {gamma(5)}')"
   ]
  },
  {
   "cell_type": "markdown",
   "id": "b52bd7bc-f3e8-4fef-b3cc-13a15f8aac88",
   "metadata": {},
   "source": [
    "## Creating Data Set"
   ]
  },
  {
   "cell_type": "code",
   "execution_count": 24,
   "id": "4ce26f48-b7d0-4237-91ec-339b3b80f648",
   "metadata": {},
   "outputs": [],
   "source": [
    "rng = np.random.default_rng()\n",
    "\n",
    "def random_binary(rng=rng, N=1000) :\n",
    "    '''Generate random binary string of length N'''\n",
    "    a = rng.integers(low=0, high=2, size=1000)\n",
    "    return ''.join([str(b) for b in a])"
   ]
  },
  {
   "cell_type": "code",
   "execution_count": 25,
   "id": "beb61372-2ae5-4aed-bfdc-94af1655938d",
   "metadata": {},
   "outputs": [
    {
     "name": "stdout",
     "output_type": "stream",
     "text": [
      "6541643499186055663771779328526469627081095288196595523680383547052491563421123870449850966187717703280037334515593694237002611891077117952455920949798828173923591768316646776642950379418199574201749562252947993917600033282790517957126253203260841628458181229757520308969262614048681404644781441437778\n"
     ]
    }
   ],
   "source": [
    "n = int(random_binary(), 2)\n",
    "print(n)"
   ]
  },
  {
   "cell_type": "code",
   "execution_count": 33,
   "id": "19077b30-e75e-4c3e-8c67-a8d384982e18",
   "metadata": {},
   "outputs": [
    {
     "name": "stdout",
     "output_type": "stream",
     "text": [
      "0, 0 s\n",
      "1000, 3 s\n",
      "2000, 3 s\n",
      "3000, 3 s\n",
      "4000, 3 s\n",
      "5000, 3 s\n",
      "6000, 3 s\n",
      "7000, 3 s\n",
      "8000, 3 s\n",
      "9000, 3 s\n"
     ]
    }
   ],
   "source": [
    "# choose file to output to\n",
    "outfile = 'gamma_values.csv'\n",
    "\n",
    "# choose number of digits and how many digits\n",
    "num_values = 10000\n",
    "N = 1000\n",
    "\n",
    "a = time.time()\n",
    "\n",
    "with open(outfile, 'a') as f :\n",
    "    for i in range(num_values) :\n",
    "        \n",
    "        # get random binary number as binary string and python int\n",
    "        b = random_binary()\n",
    "        n = int(b, 2)\n",
    "        \n",
    "        # compute gamma and write to file\n",
    "        g = gamma(n)\n",
    "        f.write(f'{b},{g}\\n')\n",
    "        \n",
    "        if i % 1000 == 0 :\n",
    "            b = time.time()\n",
    "            print(f'{i}, {int(b - a)} s')\n",
    "            a = time.time()"
   ]
  },
  {
   "cell_type": "code",
   "execution_count": null,
   "id": "06139514-2ef3-473f-a4c6-36e4c195519f",
   "metadata": {},
   "outputs": [],
   "source": []
  }
 ],
 "metadata": {
  "kernelspec": {
   "display_name": "Python 3 (ipykernel)",
   "language": "python",
   "name": "python3"
  },
  "language_info": {
   "codemirror_mode": {
    "name": "ipython",
    "version": 3
   },
   "file_extension": ".py",
   "mimetype": "text/x-python",
   "name": "python",
   "nbconvert_exporter": "python",
   "pygments_lexer": "ipython3",
   "version": "3.9.16"
  }
 },
 "nbformat": 4,
 "nbformat_minor": 5
}
